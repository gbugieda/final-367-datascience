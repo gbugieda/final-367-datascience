{
 "cells": [
  {
   "cell_type": "markdown",
   "id": "electrical-correlation",
   "metadata": {},
   "source": [
    "# **Impact of Oil Spills on Marine and Coastal Ecosystems: Deepwater Horizon Incident**"
   ]
  },
  {
   "cell_type": "markdown",
   "id": "sunset-reputation",
   "metadata": {},
   "source": [
    "## **Problem:** "
   ]
  },
  {
   "cell_type": "markdown",
   "id": "formed-large",
   "metadata": {},
   "source": [
    "Investigating the impact of the 2010 Deep Water Horizon Oil Spill on the marine and coastal life in the Gulf of Mexico region over the years."
   ]
  },
  {
   "cell_type": "markdown",
   "id": "referenced-capitol",
   "metadata": {},
   "source": [
    "## **Background**"
   ]
  },
  {
   "cell_type": "markdown",
   "id": "comic-export",
   "metadata": {},
   "source": [
    "Oil spills and pollution in the ocean can have devastating effects on marine life and coastal ecosystems, and they happen to be a consequence of oil dependency and depletion of oil reserves.  Offshore drilling using deep water rigs is one way to extract the resource.  However, drilling for oil in the ocean comes with some detriments, one of them being that oil can leak into the ocean during instrument malfunction or rig explosion.  When oil spills into the sea, it \"initially spreads over the water surface as a slick a few millimeters thick\" [1].  Rough sea conditions and waves can make the oil slick worse, and if there is a lot of oil or minimal dispersion, damage to wildlife can occur [1]. \n",
    "\n",
    "One of the most devastating and infamous oil spills in recent history was the 2010 Deepwater Horizon oil spill in the Gulf of Mexico.  On April 20, 2010, there was an explosion and gas blowout on the Deepwater Horizon drilling rig that resulted in an oil leak that continued polluting the water for 87 days until the well was capped [2].  All in all, over \"3.19 million barrels of oil were released into the ocean during the spill, in addition to several hundred thousand tons of hydrocarbon gases\" [2].  Ocean currents carried oil away from the site of the explosion towards the coasts and beaches, and large cleanup operations were implemented to contain and remove the oil as well as to help the marine ecosystems recover. "
   ]
  },
  {
   "cell_type": "markdown",
   "id": "literary-prospect",
   "metadata": {},
   "source": [
    "## **Research Questions:**"
   ]
  },
  {
   "cell_type": "markdown",
   "id": "worldwide-packet",
   "metadata": {},
   "source": [
    "   1. What are the effects of oil spills on birds?  \n",
    "       * How much more severe are effects on birds closer to where the oil spill originated vs farther away?\n",
    "       \n",
    "   2. How do oil spills impact local fishing and coastal economies?\n",
    "   \n",
    "   3. What is the effect of oil on fish?"
   ]
  },
  {
   "cell_type": "markdown",
   "id": "enormous-championship",
   "metadata": {},
   "source": [
    "## **Justification**"
   ]
  },
  {
   "cell_type": "markdown",
   "id": "theoretical-assist",
   "metadata": {},
   "source": [
    "## **Dataset:**"
   ]
  },
  {
   "cell_type": "markdown",
   "id": "weekly-tours",
   "metadata": {},
   "source": [
    "## **Analysis:**"
   ]
  },
  {
   "cell_type": "markdown",
   "id": "efficient-fitting",
   "metadata": {},
   "source": [
    "## **Ethical Concerns:**"
   ]
  },
  {
   "cell_type": "code",
   "execution_count": null,
   "id": "posted-grove",
   "metadata": {},
   "outputs": [],
   "source": []
  }
 ],
 "metadata": {
  "kernelspec": {
   "display_name": "Python 3",
   "language": "python",
   "name": "python3"
  },
  "language_info": {
   "codemirror_mode": {
    "name": "ipython",
    "version": 3
   },
   "file_extension": ".py",
   "mimetype": "text/x-python",
   "name": "python",
   "nbconvert_exporter": "python",
   "pygments_lexer": "ipython3",
   "version": "3.9.1"
  }
 },
 "nbformat": 4,
 "nbformat_minor": 5
}
